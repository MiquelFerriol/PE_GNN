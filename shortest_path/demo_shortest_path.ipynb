{
 "cells": [
  {
   "cell_type": "markdown",
   "metadata": {
    "id": "0xDOTzsfMv63"
   },
   "source": [
    "# Demo GNN with IGNNITION\n",
    "\n",
    "## Shortest Path\n",
    "### **Problem**: Find the shortest path in graphs with a Graph Neural Network"
   ]
  },
  {
   "cell_type": "markdown",
   "source": [
    "# Import libraries\n"
   ],
   "metadata": {
    "collapsed": false
   }
  },
  {
   "cell_type": "code",
   "metadata": {
    "id": "EEnrunxq13BJ",
    "ExecuteTime": {
     "end_time": "2024-04-08T22:03:13.690927Z",
     "start_time": "2024-04-08T22:03:08.411932Z"
    }
   },
   "source": [
    "import networkx as nx\n",
    "import random\n",
    "import json\n",
    "import os\n",
    "from networkx.readwrite import json_graph\n",
    "\n",
    "\n",
    "def generate_random_graph(min_nodes, max_nodes, min_edge_weight, max_edge_weight, p):\n",
    "    while True:\n",
    "        # Create a random Erdos Renyi graph\n",
    "        G = nx.erdos_renyi_graph(random.randint(min_nodes, max_nodes), p)\n",
    "        complement = list(nx.k_edge_augmentation(G, k=1, partial=True))\n",
    "        G.add_edges_from(complement)\n",
    "        nx.set_node_attributes(G, 0, 'src_tgt')\n",
    "        nx.set_node_attributes(G, 0, 'sp')\n",
    "        nx.set_node_attributes(G, 'node', 'entity')\n",
    "\n",
    "        # Assign randomly weights to graph edges\n",
    "        for (u, v, w) in G.edges(data=True):\n",
    "            w['weight'] = random.randint(min_edge_weight, max_edge_weight)\n",
    "\n",
    "        # Select a source and target nodes to compute the shortest path\n",
    "        src, tgt = random.sample(list(G.nodes), 2)\n",
    "\n",
    "        G.nodes[src]['src_tgt'] = 1\n",
    "        G.nodes[tgt]['src_tgt'] = 1\n",
    "\n",
    "        # Compute all the shortest paths between source and target nodes\n",
    "        try:\n",
    "            shortest_paths = list(nx.all_shortest_paths(G, source=src, target=tgt, weight='weight'))\n",
    "        except:\n",
    "            shortest_paths = []\n",
    "        # Check if there exists only one shortest path\n",
    "        if len(shortest_paths) == 1:\n",
    "            for node in shortest_paths[0]:\n",
    "                G.nodes[node]['sp'] = 1\n",
    "            return nx.DiGraph(G)\n",
    "\n",
    "\n",
    "def generate_dataset(file_name, num_samples, min_nodes=5, max_nodes=15, min_edge_weight=1, max_edge_weight=10, p=0.3):\n",
    "    samples = []\n",
    "    for _ in range(num_samples):\n",
    "        G = generate_random_graph(min_nodes, max_nodes, min_edge_weight, max_edge_weight, p)\n",
    "        G.remove_nodes_from([node for node, degree in dict(G.degree()).items() if degree == 0])\n",
    "        samples.append(json_graph.node_link_data(G))\n",
    "\n",
    "    with open(file_name, \"w\") as f:\n",
    "        json.dump(samples, f)\n",
    "\n",
    "\n",
    "root_dir = \"./data\"\n",
    "if not os.path.exists(root_dir):\n",
    "    os.makedirs(root_dir)\n",
    "if not os.path.exists(root_dir + \"/train\"):\n",
    "    os.makedirs(root_dir + \"/train\")\n",
    "if not os.path.exists(root_dir + \"/validation\"):\n",
    "    os.makedirs(root_dir + \"/validation\")\n",
    "if not os.path.exists(root_dir + \"/test\"):\n",
    "    os.makedirs(root_dir + \"/test\")\n",
    "\n",
    "generate_dataset(\"./data/train/data.json\", 5000)\n",
    "generate_dataset(\"./data/validation/data.json\", 100)\n",
    "generate_dataset(\"./data/test/data.json\", 100)"
   ],
   "outputs": [],
   "execution_count": 8
  },
  {
   "cell_type": "markdown",
   "metadata": {
    "id": "FDYQM2HX49dx"
   },
   "source": [
    "---\n",
    "# GNN model training\n",
    "## Run the training of your GNN model\n",
    "## </u>**Note**</u>: You can stop the training whenever you want to continue making predictions below"
   ]
  },
  {
   "cell_type": "code",
   "metadata": {
    "id": "IiePG6oWKJ6n",
    "ExecuteTime": {
     "end_time": "2024-04-08T22:03:13.752921Z",
     "start_time": "2024-04-08T22:03:13.693920Z"
    }
   },
   "source": [
    "import ignnition\n",
    "\n",
    "model = ignnition.create_model(model_dir= './')\n",
    "model.computational_graph()\n",
    "model.train_and_validate()\n",
    "\n"
   ],
   "outputs": [
    {
     "name": "stdout",
     "output_type": "stream",
     "text": [
      "\u001B[1m\n",
      "Processing the described model...\n",
      "---------------------------------------------------------------------------\n",
      "\u001B[0m\r\n"
     ]
    },
    {
     "ename": "ValidationError",
     "evalue": "None is not of type 'number', 'string'\n\nFailed validating 'type' in schema['properties']['entities']['items']['properties']['state_dimension']:\n    {'description': 'Size of the hidden state of this entity',\n     'type': ['number', 'string']}\n\nOn instance['entities'][0]['state_dimension']:\n    None",
     "output_type": "error",
     "traceback": [
      "\u001B[1;31m---------------------------------------------------------------------------\u001B[0m",
      "\u001B[1;31mValidationError\u001B[0m                           Traceback (most recent call last)",
      "\u001B[1;32m~\\AppData\\Local\\Temp\\ipykernel_20556\\356341938.py\u001B[0m in \u001B[0;36m<module>\u001B[1;34m\u001B[0m\n\u001B[0;32m      1\u001B[0m \u001B[1;32mimport\u001B[0m \u001B[0mignnition\u001B[0m\u001B[1;33m\u001B[0m\u001B[0m\n\u001B[0;32m      2\u001B[0m \u001B[1;33m\u001B[0m\u001B[0m\n\u001B[1;32m----> 3\u001B[1;33m \u001B[0mmodel\u001B[0m \u001B[1;33m=\u001B[0m \u001B[0mignnition\u001B[0m\u001B[1;33m.\u001B[0m\u001B[0mcreate_model\u001B[0m\u001B[1;33m(\u001B[0m\u001B[0mmodel_dir\u001B[0m\u001B[1;33m=\u001B[0m \u001B[1;34m'./'\u001B[0m\u001B[1;33m)\u001B[0m\u001B[1;33m\u001B[0m\u001B[0m\n\u001B[0m\u001B[0;32m      4\u001B[0m \u001B[0mmodel\u001B[0m\u001B[1;33m.\u001B[0m\u001B[0mcomputational_graph\u001B[0m\u001B[1;33m(\u001B[0m\u001B[1;33m)\u001B[0m\u001B[1;33m\u001B[0m\u001B[0m\n\u001B[0;32m      5\u001B[0m \u001B[0mmodel\u001B[0m\u001B[1;33m.\u001B[0m\u001B[0mtrain_and_validate\u001B[0m\u001B[1;33m(\u001B[0m\u001B[1;33m)\u001B[0m\u001B[1;33m\u001B[0m\u001B[0m\n",
      "\u001B[1;32mD:\\vens\\pe_gnn\\lib\\site-packages\\ignnition\\error_handling.py\u001B[0m in \u001B[0;36mwrapper\u001B[1;34m(*args, **kwargs)\u001B[0m\n\u001B[0;32m    482\u001B[0m     \u001B[1;32mdef\u001B[0m \u001B[0mwrapper\u001B[0m\u001B[1;33m(\u001B[0m\u001B[1;33m*\u001B[0m\u001B[0margs\u001B[0m\u001B[1;33m,\u001B[0m \u001B[1;33m**\u001B[0m\u001B[0mkwargs\u001B[0m\u001B[1;33m)\u001B[0m\u001B[1;33m:\u001B[0m\u001B[1;33m\u001B[0m\u001B[0m\n\u001B[0;32m    483\u001B[0m         \u001B[1;32mtry\u001B[0m\u001B[1;33m:\u001B[0m\u001B[1;33m\u001B[0m\u001B[0m\n\u001B[1;32m--> 484\u001B[1;33m             \u001B[1;32mreturn\u001B[0m \u001B[0mf\u001B[0m\u001B[1;33m(\u001B[0m\u001B[1;33m*\u001B[0m\u001B[0margs\u001B[0m\u001B[1;33m,\u001B[0m \u001B[1;33m**\u001B[0m\u001B[0mkwargs\u001B[0m\u001B[1;33m)\u001B[0m\u001B[1;33m\u001B[0m\u001B[0m\n\u001B[0m\u001B[0;32m    485\u001B[0m         \u001B[1;32mexcept\u001B[0m \u001B[0mIgnnitionException\u001B[0m \u001B[1;32mas\u001B[0m \u001B[0me\u001B[0m\u001B[1;33m:\u001B[0m\u001B[1;33m\u001B[0m\u001B[0m\n\u001B[0;32m    486\u001B[0m             \u001B[0mFAIL\u001B[0m \u001B[1;33m=\u001B[0m \u001B[1;34m'\\033[91m'\u001B[0m\u001B[1;33m\u001B[0m\u001B[0m\n",
      "\u001B[1;32mD:\\vens\\pe_gnn\\lib\\site-packages\\ignnition\\__init__.py\u001B[0m in \u001B[0;36mcreate_model\u001B[1;34m(model_dir)\u001B[0m\n\u001B[0;32m     14\u001B[0m         \u001B[0mPath\u001B[0m \u001B[0mto\u001B[0m \u001B[0mthe\u001B[0m \u001B[0mdirectory\u001B[0m \u001B[0mwhere\u001B[0m \u001B[0mthe\u001B[0m \u001B[0mmodel_description\u001B[0m\u001B[1;33m,\u001B[0m \u001B[0mglobal_variables\u001B[0m \u001B[1;32mand\u001B[0m \u001B[0mtrain_options\u001B[0m\u001B[1;33m.\u001B[0m\u001B[0myaml\u001B[0m \u001B[0mare\u001B[0m \u001B[0mfound\u001B[0m\u001B[1;33m\u001B[0m\u001B[0m\n\u001B[0;32m     15\u001B[0m     \"\"\"\n\u001B[1;32m---> 16\u001B[1;33m     \u001B[1;32mreturn\u001B[0m \u001B[0mIgnnitionModel\u001B[0m\u001B[1;33m(\u001B[0m\u001B[0mmodel_dir\u001B[0m\u001B[1;33m)\u001B[0m\u001B[1;33m\u001B[0m\u001B[0m\n\u001B[0m",
      "\u001B[1;32mD:\\vens\\pe_gnn\\lib\\site-packages\\ignnition\\ignnition_model.py\u001B[0m in \u001B[0;36m__init__\u001B[1;34m(self, model_dir)\u001B[0m\n\u001B[0;32m    161\u001B[0m             \u001B[0mself\u001B[0m\u001B[1;33m.\u001B[0m\u001B[0mmodule\u001B[0m \u001B[1;33m=\u001B[0m \u001B[1;32mNone\u001B[0m\u001B[1;33m\u001B[0m\u001B[0m\n\u001B[0;32m    162\u001B[0m \u001B[1;33m\u001B[0m\u001B[0m\n\u001B[1;32m--> 163\u001B[1;33m         \u001B[0mself\u001B[0m\u001B[1;33m.\u001B[0m\u001B[0mmodel_info\u001B[0m \u001B[1;33m=\u001B[0m \u001B[0mself\u001B[0m\u001B[1;33m.\u001B[0m\u001B[0m__create_model\u001B[0m\u001B[1;33m(\u001B[0m\u001B[1;33m)\u001B[0m\u001B[1;33m\u001B[0m\u001B[0m\n\u001B[0m\u001B[0;32m    164\u001B[0m         \u001B[0mself\u001B[0m\u001B[1;33m.\u001B[0m\u001B[0mgenerator\u001B[0m \u001B[1;33m=\u001B[0m \u001B[0mGenerator\u001B[0m\u001B[1;33m(\u001B[0m\u001B[1;33m)\u001B[0m\u001B[1;33m\u001B[0m\u001B[0m\n\u001B[0;32m    165\u001B[0m \u001B[1;33m\u001B[0m\u001B[0m\n",
      "\u001B[1;32mD:\\vens\\pe_gnn\\lib\\site-packages\\ignnition\\ignnition_model.py\u001B[0m in \u001B[0;36m__create_model\u001B[1;34m(self)\u001B[0m\n\u001B[0;32m    521\u001B[0m             \u001B[1;34m\"\\nProcessing the described model...\\n----------------------------------------------\"\u001B[0m\u001B[1;33m\u001B[0m\u001B[0m\n\u001B[0;32m    522\u001B[0m             \"-----------------------------\\n\")\n\u001B[1;32m--> 523\u001B[1;33m         \u001B[1;32mreturn\u001B[0m \u001B[0mYamlPreprocessing\u001B[0m\u001B[1;33m(\u001B[0m\u001B[0mself\u001B[0m\u001B[1;33m.\u001B[0m\u001B[0mmodel_dir\u001B[0m\u001B[1;33m)\u001B[0m  \u001B[1;31m# read json\u001B[0m\u001B[1;33m\u001B[0m\u001B[0m\n\u001B[0m\u001B[0;32m    524\u001B[0m \u001B[1;33m\u001B[0m\u001B[0m\n\u001B[0;32m    525\u001B[0m     \u001B[1;32mdef\u001B[0m \u001B[0m__create_gnn\u001B[0m\u001B[1;33m(\u001B[0m\u001B[0mself\u001B[0m\u001B[1;33m,\u001B[0m \u001B[0msamples\u001B[0m\u001B[1;33m=\u001B[0m\u001B[1;32mNone\u001B[0m\u001B[1;33m,\u001B[0m \u001B[0mpath\u001B[0m\u001B[1;33m=\u001B[0m\u001B[1;32mNone\u001B[0m\u001B[1;33m,\u001B[0m \u001B[0mverbose\u001B[0m\u001B[1;33m=\u001B[0m\u001B[1;32mTrue\u001B[0m\u001B[1;33m,\u001B[0m \u001B[0mrequire_warm_start\u001B[0m\u001B[1;33m=\u001B[0m\u001B[1;32mFalse\u001B[0m\u001B[1;33m)\u001B[0m\u001B[1;33m:\u001B[0m\u001B[1;33m\u001B[0m\u001B[0m\n",
      "\u001B[1;32mD:\\vens\\pe_gnn\\lib\\site-packages\\ignnition\\yaml_preprocessing.py\u001B[0m in \u001B[0;36m__init__\u001B[1;34m(self, model_dir)\u001B[0m\n\u001B[0;32m    119\u001B[0m         \u001B[1;31m# validate with the schema\u001B[0m\u001B[1;33m\u001B[0m\u001B[1;33m\u001B[0m\u001B[0m\n\u001B[0;32m    120\u001B[0m         \u001B[1;32mwith\u001B[0m \u001B[0mimportlib\u001B[0m\u001B[1;33m.\u001B[0m\u001B[0mresources\u001B[0m\u001B[1;33m.\u001B[0m\u001B[0mpath\u001B[0m\u001B[1;33m(\u001B[0m\u001B[1;34m'ignnition'\u001B[0m\u001B[1;33m,\u001B[0m \u001B[1;34m\"schema.json\"\u001B[0m\u001B[1;33m)\u001B[0m \u001B[1;32mas\u001B[0m \u001B[0mschema_file\u001B[0m\u001B[1;33m:\u001B[0m\u001B[1;33m\u001B[0m\u001B[0m\n\u001B[1;32m--> 121\u001B[1;33m             \u001B[0mvalidate\u001B[0m\u001B[1;33m(\u001B[0m\u001B[0minstance\u001B[0m\u001B[1;33m=\u001B[0m\u001B[0mself\u001B[0m\u001B[1;33m.\u001B[0m\u001B[0mdata\u001B[0m\u001B[1;33m,\u001B[0m \u001B[0mschema\u001B[0m\u001B[1;33m=\u001B[0m\u001B[0mself\u001B[0m\u001B[1;33m.\u001B[0m\u001B[0m__read_json\u001B[0m\u001B[1;33m(\u001B[0m\u001B[0mschema_file\u001B[0m\u001B[1;33m)\u001B[0m\u001B[1;33m)\u001B[0m  \u001B[1;31m# validate that the json is well defined\u001B[0m\u001B[1;33m\u001B[0m\u001B[0m\n\u001B[0m\u001B[0;32m    122\u001B[0m \u001B[1;33m\u001B[0m\u001B[0m\n\u001B[0;32m    123\u001B[0m         \u001B[1;31m# add the global variables (if any)\u001B[0m\u001B[1;33m\u001B[0m\u001B[1;33m\u001B[0m\u001B[0m\n",
      "\u001B[1;32mD:\\vens\\pe_gnn\\lib\\site-packages\\jsonschema\\validators.py\u001B[0m in \u001B[0;36mvalidate\u001B[1;34m(instance, schema, cls, *args, **kwargs)\u001B[0m\n\u001B[0;32m    932\u001B[0m     \u001B[0merror\u001B[0m \u001B[1;33m=\u001B[0m \u001B[0mexceptions\u001B[0m\u001B[1;33m.\u001B[0m\u001B[0mbest_match\u001B[0m\u001B[1;33m(\u001B[0m\u001B[0mvalidator\u001B[0m\u001B[1;33m.\u001B[0m\u001B[0miter_errors\u001B[0m\u001B[1;33m(\u001B[0m\u001B[0minstance\u001B[0m\u001B[1;33m)\u001B[0m\u001B[1;33m)\u001B[0m\u001B[1;33m\u001B[0m\u001B[0m\n\u001B[0;32m    933\u001B[0m     \u001B[1;32mif\u001B[0m \u001B[0merror\u001B[0m \u001B[1;32mis\u001B[0m \u001B[1;32mnot\u001B[0m \u001B[1;32mNone\u001B[0m\u001B[1;33m:\u001B[0m\u001B[1;33m\u001B[0m\u001B[0m\n\u001B[1;32m--> 934\u001B[1;33m         \u001B[1;32mraise\u001B[0m \u001B[0merror\u001B[0m\u001B[1;33m\u001B[0m\u001B[0m\n\u001B[0m\u001B[0;32m    935\u001B[0m \u001B[1;33m\u001B[0m\u001B[0m\n\u001B[0;32m    936\u001B[0m \u001B[1;33m\u001B[0m\u001B[0m\n",
      "\u001B[1;31mValidationError\u001B[0m: None is not of type 'number', 'string'\n\nFailed validating 'type' in schema['properties']['entities']['items']['properties']['state_dimension']:\n    {'description': 'Size of the hidden state of this entity',\n     'type': ['number', 'string']}\n\nOn instance['entities'][0]['state_dimension']:\n    None"
     ]
    }
   ],
   "execution_count": 9
  },
  {
   "cell_type": "markdown",
   "metadata": {
    "id": "wWRr04kRnjd-"
   },
   "source": [
    "# Make predictions\n",
    "### (This can be only excuted once the training is finished or stopped)\n",
    "\n",
    "---\n",
    "## Load functions to generate random graphs and print them"
   ]
  },
  {
   "cell_type": "code",
   "metadata": {
    "id": "UH0MKjgsoDpA",
    "ExecuteTime": {
     "end_time": "2024-04-08T22:03:13.756914Z",
     "start_time": "2024-04-08T22:03:13.755915Z"
    }
   },
   "source": [
    "import os\n",
    "import networkx as nx\n",
    "import matplotlib.pyplot as plt\n",
    "import json\n",
    "from networkx.readwrite import json_graph\n",
    "import ignnition\n",
    "import numpy as np\n",
    "import random\n",
    "\n",
    "def generate_random_graph(min_nodes, max_nodes, min_edge_weight, max_edge_weight, p):\n",
    "    while True:\n",
    "        # Create a random Erdos Renyi graph\n",
    "        G = nx.erdos_renyi_graph(random.randint(min_nodes, max_nodes), p)\n",
    "        complement = list(nx.k_edge_augmentation(G, k=1, partial=True))\n",
    "        G.add_edges_from(complement)\n",
    "        nx.set_node_attributes(G, 0, 'src_tgt')\n",
    "        nx.set_node_attributes(G, 0, 'sp')\n",
    "        nx.set_node_attributes(G, 'node', 'entity')\n",
    "\n",
    "        # Assign randomly weights to graph edges\n",
    "        for (u, v, w) in G.edges(data=True):\n",
    "            w['weight'] = random.randint(min_edge_weight, max_edge_weight)\n",
    "\n",
    "        # Select the source and target nodes to compute the shortest path\n",
    "        src, tgt = random.sample(list(G.nodes), 2)\n",
    "\n",
    "        G.nodes[src]['src_tgt'] = 1\n",
    "        G.nodes[tgt]['src_tgt'] = 1\n",
    "\n",
    "        # Compute all the shortest paths between source and target nodes\n",
    "        try:\n",
    "            shortest_paths = list(nx.all_shortest_paths(G, source=src, target=tgt,weight='weight'))\n",
    "        except:\n",
    "            shortest_paths = []\n",
    "        # Check if there exists only one shortest path\n",
    "        if len(shortest_paths) == 1:\n",
    "            if len(shortest_paths[0])>=3 and len(shortest_paths[0])<=5:\n",
    "                for node in shortest_paths[0]:\n",
    "                    G.nodes[node]['sp'] = 1\n",
    "                return shortest_paths[0], nx.DiGraph(G)\n",
    "\n",
    "def print_graph_predictions(G, path, predictions,ax):\n",
    "    predictions = np.array(predictions)\n",
    "    node_border_colors = []\n",
    "    links = []\n",
    "    for i in range(len(path)-1):\n",
    "        links.append([path[i], path[i+1]])\n",
    "        links.append([path[i+1], path[i]])\n",
    "\n",
    "    # Add colors to node borders for source and target nodes\n",
    "    for node in G.nodes(data=True):\n",
    "        if node[1]['src_tgt'] == 1:\n",
    "            node_border_colors.append('red')\n",
    "        else:\n",
    "            node_border_colors.append('white')\n",
    "    # Add colors for predictions [0,1]\n",
    "    node_colors = predictions\n",
    "\n",
    "    # Add colors for edges\n",
    "    edge_colors = []\n",
    "    for edge in G.edges(data=True):\n",
    "        e=[edge[0],edge[1]]\n",
    "        if e in links:\n",
    "            edge_colors.append('red')\n",
    "        else:\n",
    "            edge_colors.append('black')\n",
    "    pos= nx.shell_layout(G)\n",
    "    vmin = node_colors.min()\n",
    "    vmax = node_colors.max()\n",
    "    vmin = 0\n",
    "    vmax = 1\n",
    "    cmap = plt.cm.coolwarm\n",
    "    nx.draw_networkx_nodes(G, pos=pos, node_color=node_colors, cmap=cmap, vmin=vmin, vmax=vmax,\n",
    "                           edgecolors=node_border_colors, linewidths=4, ax=ax)\n",
    "    nx.draw_networkx_edges(G, pos=pos, edge_color=edge_colors, arrows=False, ax=ax, width=2)\n",
    "    nx.draw_networkx_edge_labels(G, pos=pos, label_pos=0.5, edge_labels=nx.get_edge_attributes(G, 'weight'), ax=ax)\n",
    "    sm = plt.cm.ScalarMappable(cmap=cmap, norm=plt.Normalize(vmin=vmin, vmax=vmax))\n",
    "    sm.set_array([])\n",
    "    plt.colorbar(sm, ax=ax)\n",
    "\n",
    "def print_graph_solution(G, path, predictions, ax, pred_th):\n",
    "    predictions = np.array(predictions)\n",
    "    node_colors = []\n",
    "    node_border_colors = []\n",
    "    links = []\n",
    "    for i in range(len(path)-1):\n",
    "        links.append([path[i], path[i+1]])\n",
    "        links.append([path[i+1], path[i]])\n",
    "\n",
    "    # Add colors on node borders for source and target nodes\n",
    "    for node in G.nodes(data=True):\n",
    "        if node[1]['src_tgt'] == 1:\n",
    "            node_border_colors.append('red')\n",
    "        else:\n",
    "            node_border_colors.append('white')\n",
    "\n",
    "    # Add colors for predictions Blue or Red\n",
    "    cmap = plt.cm.get_cmap('coolwarm')\n",
    "    dark_red = cmap(1.0)\n",
    "    for p in predictions:\n",
    "        if p >= pred_th:\n",
    "            node_colors.append(dark_red)\n",
    "        else:\n",
    "            node_colors.append('blue')\n",
    "\n",
    "    # Add colors for edges\n",
    "    edge_colors = []\n",
    "    for edge in G.edges(data=True):\n",
    "        e=[edge[0],edge[1]]\n",
    "        if e in links:\n",
    "            edge_colors.append('red')\n",
    "        else:\n",
    "            edge_colors.append('black')\n",
    "    pos= nx.shell_layout(G)\n",
    "    nx.draw_networkx_nodes(G, pos=pos, node_color=node_colors, edgecolors=node_border_colors, linewidths=4, ax=ax)\n",
    "    nx.draw_networkx_edges(G, pos=pos, edge_color=edge_colors, arrows=False, ax=ax, width=2)\n",
    "    nx.draw_networkx_edge_labels(G, pos=pos, label_pos=0.5, edge_labels=nx.get_edge_attributes(G, 'weight'), ax=ax)\n",
    "\n",
    "def print_input_graph(G, sh_path, ax):\n",
    "    node_colors = []\n",
    "    node_border_colors = []\n",
    "\n",
    "    # Add colors to node borders for source and target nodes\n",
    "    for node in G.nodes(data=True):\n",
    "        if node[1]['src_tgt'] == 1:\n",
    "            node_border_colors.append('red')\n",
    "        else:\n",
    "            node_border_colors.append('white')\n",
    "\n",
    "    links = []\n",
    "    for i in range(len(sh_path)-1):\n",
    "        links.append([sh_path[i], sh_path[i+1]])\n",
    "        links.append([sh_path[i+1], sh_path[i]])\n",
    "\n",
    "    edge_colors = []\n",
    "    for edge in G.edges(data=True):\n",
    "        e=[edge[0],edge[1]]\n",
    "        if e in links:\n",
    "            edge_colors.append('red')\n",
    "        else:\n",
    "            edge_colors.append('black')\n",
    "    pos= nx.shell_layout(G)\n",
    "    nx.draw_networkx_nodes(G, pos=pos, edgecolors=node_border_colors, linewidths=4, ax=ax)\n",
    "    nx.draw_networkx_edges(G, pos=pos, edge_color=edge_colors, arrows=False, ax=ax, width=2)\n",
    "    nx.draw_networkx_edge_labels(G, pos=pos, label_pos=0.5, edge_labels=nx.get_edge_attributes(G, 'weight'), ax=ax)"
   ],
   "outputs": [],
   "execution_count": null
  },
  {
   "cell_type": "markdown",
   "source": [
    "---\n",
    "# Make predictions on random graphs\n",
    "# **NOTE**: IGNNITION will automatically load the latest trained model (CheckPoint) to make the predictions"
   ],
   "metadata": {
    "collapsed": false
   }
  },
  {
   "cell_type": "code",
   "metadata": {
    "id": "cL3IDquZpSdP",
    "ExecuteTime": {
     "end_time": "2024-04-08T22:03:13.757916Z",
     "start_time": "2024-04-08T22:03:13.757916Z"
    }
   },
   "source": [
    "dataset_samples = []\n",
    "sh_path, G = generate_random_graph(min_nodes=8, max_nodes=12, min_edge_weight=1, max_edge_weight=10, p=0.3)\n",
    "graph = G.to_undirected()\n",
    "dataset_samples.append(json_graph.node_link_data(G))\n",
    "\n",
    "# write prediction dataset\n",
    "root_dir=\"./data\"\n",
    "if not os.path.exists(root_dir):\n",
    "    os.makedirs(root_dir)\n",
    "if not os.path.exists(root_dir+\"/test\"):\n",
    "    os.makedirs(root_dir+\"/test\")\n",
    "with open(root_dir+\"/test/data.json\", \"w\") as f:\n",
    "    json.dump(dataset_samples, f)\n",
    "\n",
    "# Make predictions\n",
    "predictions = model.predict()\n",
    "\n",
    "# Print the results\n",
    "fig, axes = plt.subplots(nrows=1, ncols=3)\n",
    "ax = axes.flatten()\n",
    "\n",
    "# Print input graph\n",
    "ax1 = ax[0]\n",
    "ax1.set_title(\"Input graph\")\n",
    "print_input_graph(graph, sh_path, ax1)\n",
    "\n",
    "# Print graph with predictions (soft values)\n",
    "ax1 = ax[1]\n",
    "ax1.set_title(\"GNN predictions (soft values)\")\n",
    "print_graph_predictions(graph, sh_path, predictions[0], ax1)\n",
    "\n",
    "# Print solution of the GNN\n",
    "pred_th = 0.5\n",
    "ax1 = ax[2]\n",
    "ax1.set_title(\"GNN solution (p >= \"+str(pred_th)+\")\")\n",
    "print_graph_solution(graph, sh_path, predictions[0], ax1, pred_th)\n",
    "print(\"True path:\", sh_path)\n",
    "# Show plot in full screen\n",
    "plt.rcParams['figure.figsize'] = [10, 4]\n",
    "plt.rcParams['figure.dpi'] = 100\n",
    "plt.tight_layout()\n",
    "plt.show()"
   ],
   "outputs": [],
   "execution_count": null
  }
 ],
 "metadata": {
  "colab": {
   "collapsed_sections": [
    "0xDOTzsfMv63"
   ],
   "provenance": []
  },
  "gpuClass": "standard",
  "kernelspec": {
   "name": "python3",
   "language": "python",
   "display_name": "Python 3 (ipykernel)"
  },
  "language_info": {
   "name": "python"
  }
 },
 "nbformat": 4,
 "nbformat_minor": 0
}
